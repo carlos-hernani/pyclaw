{
 "cells": [
  {
   "cell_type": "code",
   "execution_count": 1,
   "metadata": {},
   "outputs": [],
   "source": [
    "from clawpack.pyclaw import examples"
   ]
  },
  {
   "cell_type": "code",
   "execution_count": 2,
   "metadata": {},
   "outputs": [
    {
     "name": "stdout",
     "output_type": "stream",
     "text": [
      "2021-11-03 10:26:46,289 INFO CLAW: Solution 0 computed for time t=0.000000\n",
      "2021-11-03 10:26:46,296 INFO CLAW: Solution 1 computed for time t=0.050000\n",
      "2021-11-03 10:26:46,303 INFO CLAW: Solution 2 computed for time t=0.100000\n",
      "2021-11-03 10:26:46,312 INFO CLAW: Solution 3 computed for time t=0.150000\n",
      "2021-11-03 10:26:46,319 INFO CLAW: Solution 4 computed for time t=0.200000\n",
      "2021-11-03 10:26:46,327 INFO CLAW: Solution 5 computed for time t=0.250000\n",
      "2021-11-03 10:26:46,335 INFO CLAW: Solution 6 computed for time t=0.300000\n",
      "2021-11-03 10:26:46,344 INFO CLAW: Solution 7 computed for time t=0.350000\n",
      "2021-11-03 10:26:46,355 INFO CLAW: Solution 8 computed for time t=0.400000\n",
      "2021-11-03 10:26:46,365 INFO CLAW: Solution 9 computed for time t=0.450000\n",
      "2021-11-03 10:26:46,376 INFO CLAW: Solution 10 computed for time t=0.500000\n",
      "Executed setplot successfully\n",
      "\n",
      "Interactive plotting... \n",
      "Type ? at IPLOT prompt for list of commands\n",
      "\n",
      "    *** Error: frameno must be an integer, resetting to 0\n",
      "    Plotting Frame 0 at t = 0.0\n",
      "    Plotting Frame 1 at t = 0.05\n",
      "    Plotting Frame 2 at t = 0.1\n",
      "    Plotting Frame 3 at t = 0.15000000000000002\n",
      "    Plotting Frame 4 at t = 0.2\n",
      "    Plotting Frame 5 at t = 0.25\n",
      "    Plotting Frame 6 at t = 0.30000000000000004\n",
      "    Plotting Frame 7 at t = 0.35000000000000003\n",
      "    Plotting Frame 8 at t = 0.4\n",
      "    Plotting Frame 9 at t = 0.45\n",
      "    Plotting Frame 10 at t = 0.5\n",
      "Cannot plot frame 11; only 11 frames available\n",
      "Cannot plot frame 12; only 11 frames available\n",
      "\n",
      "Documented commands (type help <topic>):\n",
      "========================================\n",
      "EOF  clearframes  edit  help  j  k  n  p  print  pwd  q  quit  r  rr  save  vi\n",
      "\n",
      "You must specify a file name.\n",
      "quitting...\n"
     ]
    },
    {
     "data": {
      "image/png": "[encoded data removed]",
      "text/plain": [
       "<Figure size 432x288 with 1 Axes>"
      ]
     },
     "metadata": {},
     "output_type": "display_data"
    }
   ],
   "source": [
    "%matplotlib inline\n",
    "claw = examples.burgers_1d.setup()\n",
    "claw.run()\n",
    "claw.plot()"
   ]
  },
  {
   "cell_type": "markdown",
   "metadata": {},
   "source": [
    "https://notebook.community/rjleveque/binder_experiments/clawpack_tests/pyclaw1"
   ]
  },
  {
   "cell_type": "code",
   "execution_count": null,
   "metadata": {},
   "outputs": [],
   "source": []
  }
 ],
 "metadata": {
  "interpreter": {
   "hash": "00575f28f663c8649a564c761166c940f4d4a7f94435fb951f2450561bd75007"
  },
  "kernelspec": {
   "display_name": "Python 3.9.7 64-bit ('.venv': venv)",
   "name": "python3"
  },
  "language_info": {
   "codemirror_mode": {
    "name": "ipython",
    "version": 3
   },
   "file_extension": ".py",
   "mimetype": "text/x-python",
   "name": "python",
   "nbconvert_exporter": "python",
   "pygments_lexer": "ipython3",
   "version": "3.9.7"
  },
  "orig_nbformat": 4
 },
 "nbformat": 4,
 "nbformat_minor": 2
}
