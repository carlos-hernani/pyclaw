{
 "cells": [
  {
   "cell_type": "markdown",
   "metadata": {},
   "source": [
    "# PyClaw: Burgers' Equation\n",
    "\n",
    "## Using the guide [A quick introduction to PyClaw](https://notebook.community/rjleveque/binder_experiments/clawpack_tests/pyclaw1)\n",
    "\n",
    "### Author: Carlos Hernani Morales\n",
    "\n"
   ]
  },
  {
   "cell_type": "code",
   "execution_count": 1,
   "metadata": {},
   "outputs": [],
   "source": [
    "from matplotlib.animation import FuncAnimation\n",
    "import matplotlib.pyplot as plt\n",
    "import numpy as np\n",
    "from clawpack import pyclaw, riemann"
   ]
  },
  {
   "cell_type": "code",
   "execution_count": 2,
   "metadata": {},
   "outputs": [],
   "source": [
    "riemann_solver = riemann.burgers_1D\n",
    "solver = pyclaw.ClawSolver1D(riemann_solver)\n",
    "solver.all_bcs = pyclaw.BC.periodic # 2\n",
    "\n",
    "dimension = pyclaw.Dimension(0.,1.,500,name='x')\n",
    "domain = pyclaw.Domain(dimension)\n",
    "\n",
    "num_eqn = 1\n",
    "state = pyclaw.State(domain, num_eqn)\n",
    "\n",
    "xc = state.grid.x.centers\n",
    "state.q[0,:] = np.sin(np.pi*2*xc) + 0.5\n",
    "state.problem_data['efix'] = True\n",
    "\n",
    "\n",
    "claw = pyclaw.Controller()\n",
    "claw.tfinal = 1.0\n",
    "claw.solution = pyclaw.Solution(state, domain)\n",
    "claw.solver = solver\n",
    "claw.keep_copy = True\n",
    "claw.output_format = None\n",
    "claw.num_output_times = 50"
   ]
  },
  {
   "cell_type": "code",
   "execution_count": 3,
   "metadata": {},
   "outputs": [
    {
     "data": {
      "text/plain": [
       "[<matplotlib.lines.Line2D at 0x7f394ff33670>]"
      ]
     },
     "execution_count": 3,
     "metadata": {},
     "output_type": "execute_result"
    },
    {
     "data": {
      "image/png": "[encoded data removed]",
      "text/plain": [
       "<Figure size 432x288 with 1 Axes>"
      ]
     },
     "metadata": {
      "needs_background": "light"
     },
     "output_type": "display_data"
    }
   ],
   "source": [
    "plt.plot(xc, claw.solution.q[0,:], '-o')"
   ]
  },
  {
   "cell_type": "code",
   "execution_count": 4,
   "metadata": {},
   "outputs": [
    {
     "name": "stdout",
     "output_type": "stream",
     "text": [
      "2021-11-08 14:33:32,001 INFO CLAW: Solution 0 computed for time t=0.000000\n",
      "2021-11-08 14:33:32,004 INFO CLAW: Solution 1 computed for time t=0.020000\n",
      "2021-11-08 14:33:32,006 INFO CLAW: Solution 2 computed for time t=0.040000\n",
      "2021-11-08 14:33:32,007 INFO CLAW: Solution 3 computed for time t=0.060000\n",
      "2021-11-08 14:33:32,009 INFO CLAW: Solution 4 computed for time t=0.080000\n",
      "2021-11-08 14:33:32,010 INFO CLAW: Solution 5 computed for time t=0.100000\n",
      "2021-11-08 14:33:32,011 INFO CLAW: Solution 6 computed for time t=0.120000\n",
      "2021-11-08 14:33:32,013 INFO CLAW: Solution 7 computed for time t=0.140000\n",
      "2021-11-08 14:33:32,014 INFO CLAW: Solution 8 computed for time t=0.160000\n",
      "2021-11-08 14:33:32,016 INFO CLAW: Solution 9 computed for time t=0.180000\n",
      "2021-11-08 14:33:32,017 INFO CLAW: Solution 10 computed for time t=0.200000\n",
      "2021-11-08 14:33:32,018 INFO CLAW: Solution 11 computed for time t=0.220000\n",
      "2021-11-08 14:33:32,020 INFO CLAW: Solution 12 computed for time t=0.240000\n",
      "2021-11-08 14:33:32,021 INFO CLAW: Solution 13 computed for time t=0.260000\n",
      "2021-11-08 14:33:32,023 INFO CLAW: Solution 14 computed for time t=0.280000\n",
      "2021-11-08 14:33:32,024 INFO CLAW: Solution 15 computed for time t=0.300000\n",
      "2021-11-08 14:33:32,025 INFO CLAW: Solution 16 computed for time t=0.320000\n",
      "2021-11-08 14:33:32,027 INFO CLAW: Solution 17 computed for time t=0.340000\n",
      "2021-11-08 14:33:32,028 INFO CLAW: Solution 18 computed for time t=0.360000\n",
      "2021-11-08 14:33:32,029 INFO CLAW: Solution 19 computed for time t=0.380000\n",
      "2021-11-08 14:33:32,031 INFO CLAW: Solution 20 computed for time t=0.400000\n",
      "2021-11-08 14:33:32,032 INFO CLAW: Solution 21 computed for time t=0.420000\n",
      "2021-11-08 14:33:32,033 INFO CLAW: Solution 22 computed for time t=0.440000\n",
      "2021-11-08 14:33:32,034 INFO CLAW: Solution 23 computed for time t=0.460000\n",
      "2021-11-08 14:33:32,036 INFO CLAW: Solution 24 computed for time t=0.480000\n",
      "2021-11-08 14:33:32,037 INFO CLAW: Solution 25 computed for time t=0.500000\n",
      "2021-11-08 14:33:32,038 INFO CLAW: Solution 26 computed for time t=0.520000\n",
      "2021-11-08 14:33:32,040 INFO CLAW: Solution 27 computed for time t=0.540000\n",
      "2021-11-08 14:33:32,041 INFO CLAW: Solution 28 computed for time t=0.560000\n",
      "2021-11-08 14:33:32,042 INFO CLAW: Solution 29 computed for time t=0.580000\n",
      "2021-11-08 14:33:32,043 INFO CLAW: Solution 30 computed for time t=0.600000\n",
      "2021-11-08 14:33:32,045 INFO CLAW: Solution 31 computed for time t=0.620000\n",
      "2021-11-08 14:33:32,046 INFO CLAW: Solution 32 computed for time t=0.640000\n",
      "2021-11-08 14:33:32,047 INFO CLAW: Solution 33 computed for time t=0.660000\n",
      "2021-11-08 14:33:32,048 INFO CLAW: Solution 34 computed for time t=0.680000\n",
      "2021-11-08 14:33:32,049 INFO CLAW: Solution 35 computed for time t=0.700000\n",
      "2021-11-08 14:33:32,050 INFO CLAW: Solution 36 computed for time t=0.720000\n",
      "2021-11-08 14:33:32,051 INFO CLAW: Solution 37 computed for time t=0.740000\n",
      "2021-11-08 14:33:32,052 INFO CLAW: Solution 38 computed for time t=0.760000\n",
      "2021-11-08 14:33:32,054 INFO CLAW: Solution 39 computed for time t=0.780000\n",
      "2021-11-08 14:33:32,055 INFO CLAW: Solution 40 computed for time t=0.800000\n",
      "2021-11-08 14:33:32,056 INFO CLAW: Solution 41 computed for time t=0.820000\n",
      "2021-11-08 14:33:32,057 INFO CLAW: Solution 42 computed for time t=0.840000\n",
      "2021-11-08 14:33:32,058 INFO CLAW: Solution 43 computed for time t=0.860000\n",
      "2021-11-08 14:33:32,059 INFO CLAW: Solution 44 computed for time t=0.880000\n",
      "2021-11-08 14:33:32,060 INFO CLAW: Solution 45 computed for time t=0.900000\n",
      "2021-11-08 14:33:32,061 INFO CLAW: Solution 46 computed for time t=0.920000\n",
      "2021-11-08 14:33:32,062 INFO CLAW: Solution 47 computed for time t=0.940000\n",
      "2021-11-08 14:33:32,064 INFO CLAW: Solution 48 computed for time t=0.960000\n",
      "2021-11-08 14:33:32,065 INFO CLAW: Solution 49 computed for time t=0.980000\n",
      "2021-11-08 14:33:32,066 INFO CLAW: Solution 50 computed for time t=1.000000\n"
     ]
    },
    {
     "data": {
      "text/plain": [
       "{'cflmax': 0.9002991529061941,\n",
       " 'dtmin': 0.0012000157915228978,\n",
       " 'dtmax': 0.0019429681733719205,\n",
       " 'numsteps': 714}"
      ]
     },
     "execution_count": 4,
     "metadata": {},
     "output_type": "execute_result"
    }
   ],
   "source": [
    "claw.run()"
   ]
  },
  {
   "cell_type": "code",
   "execution_count": 5,
   "metadata": {},
   "outputs": [
    {
     "data": {
      "text/plain": [
       "[<matplotlib.lines.Line2D at 0x7f394dddfd30>]"
      ]
     },
     "execution_count": 5,
     "metadata": {},
     "output_type": "execute_result"
    },
    {
     "data": {
      "image/png": "[encoded data removed]",
      "text/plain": [
       "<Figure size 432x288 with 1 Axes>"
      ]
     },
     "metadata": {
      "needs_background": "light"
     },
     "output_type": "display_data"
    }
   ],
   "source": [
    "pressure = claw.frames[50].q[0,:]\n",
    "plt.plot(xc,pressure,'-o')\n"
   ]
  },
  {
   "cell_type": "code",
   "execution_count": 21,
   "metadata": {},
   "outputs": [
    {
     "name": "stdout",
     "output_type": "stream",
     "text": [
      "Warning: Cannot change to a different GUI toolkit: None. Using qt instead.\n"
     ]
    }
   ],
   "source": [
    "%matplotlib agg\n",
    "\n",
    "\n",
    "\n",
    "\n",
    "def create_video(n):\n",
    "    fig = plt.figure()\n",
    "    ax = plt.axes(xlim=(0, 1), ylim=(-2, 2))\n",
    "    frame = claw.frames[0]\n",
    "    pressure = frame.q[0,:]\n",
    "    line, = ax.plot([], [], lw=2)\n",
    "    def fplot(frame_number):\n",
    "        frame = claw.frames[frame_number]\n",
    "        pressure = frame.q[0,:]\n",
    "        line.set_data(xc,pressure)\n",
    "        return line,\n",
    "    \n",
    "    anim = FuncAnimation(\n",
    "        fig,\n",
    "        fplot,\n",
    "        frames=len(claw.frames),\n",
    "        interval=1,\n",
    "        blit=False\n",
    "    )\n",
    "    return anim\n",
    "\n",
    "\n",
    "a = create_video(1)"
   ]
  }
 ],
 "metadata": {
  "interpreter": {
   "hash": "975a52a27cef5da9d16fe8e86fef54bb9bdba4837ad9abd04f40745612979ecb"
  },
  "kernelspec": {
   "display_name": "Python 3.8.5 64-bit ('venv': venv)",
   "name": "python3"
  },
  "language_info": {
   "codemirror_mode": {
    "name": "ipython",
    "version": 3
   },
   "file_extension": ".py",
   "mimetype": "text/x-python",
   "name": "python",
   "nbconvert_exporter": "python",
   "pygments_lexer": "ipython3",
   "version": "3.8.5"
  },
  "orig_nbformat": 4
 },
 "nbformat": 4,
 "nbformat_minor": 2
}
